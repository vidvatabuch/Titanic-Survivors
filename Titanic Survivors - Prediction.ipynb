{
 "cells": [
  {
   "cell_type": "code",
   "execution_count": 68,
   "metadata": {},
   "outputs": [],
   "source": [
    "import pandas as pd\n",
    "import numpy as np\n",
    "import matplotlib.pyplot as plt\n",
    "import tensorflow as tf"
   ]
  },
  {
   "cell_type": "code",
   "execution_count": 69,
   "metadata": {},
   "outputs": [
    {
     "data": {
      "text/html": [
       "<div>\n",
       "<style scoped>\n",
       "    .dataframe tbody tr th:only-of-type {\n",
       "        vertical-align: middle;\n",
       "    }\n",
       "\n",
       "    .dataframe tbody tr th {\n",
       "        vertical-align: top;\n",
       "    }\n",
       "\n",
       "    .dataframe thead th {\n",
       "        text-align: right;\n",
       "    }\n",
       "</style>\n",
       "<table border=\"1\" class=\"dataframe\">\n",
       "  <thead>\n",
       "    <tr style=\"text-align: right;\">\n",
       "      <th></th>\n",
       "      <th>PassengerId</th>\n",
       "      <th>Survived</th>\n",
       "      <th>Pclass</th>\n",
       "      <th>Name</th>\n",
       "      <th>Sex</th>\n",
       "      <th>Age</th>\n",
       "      <th>SibSp</th>\n",
       "      <th>Parch</th>\n",
       "      <th>Ticket</th>\n",
       "      <th>Fare</th>\n",
       "      <th>Cabin</th>\n",
       "      <th>Embarked</th>\n",
       "    </tr>\n",
       "  </thead>\n",
       "  <tbody>\n",
       "    <tr>\n",
       "      <th>0</th>\n",
       "      <td>1</td>\n",
       "      <td>0</td>\n",
       "      <td>3</td>\n",
       "      <td>Braund, Mr. Owen Harris</td>\n",
       "      <td>male</td>\n",
       "      <td>22.0</td>\n",
       "      <td>1</td>\n",
       "      <td>0</td>\n",
       "      <td>A/5 21171</td>\n",
       "      <td>7.2500</td>\n",
       "      <td>NaN</td>\n",
       "      <td>S</td>\n",
       "    </tr>\n",
       "    <tr>\n",
       "      <th>1</th>\n",
       "      <td>2</td>\n",
       "      <td>1</td>\n",
       "      <td>1</td>\n",
       "      <td>Cumings, Mrs. John Bradley (Florence Briggs Th...</td>\n",
       "      <td>female</td>\n",
       "      <td>38.0</td>\n",
       "      <td>1</td>\n",
       "      <td>0</td>\n",
       "      <td>PC 17599</td>\n",
       "      <td>71.2833</td>\n",
       "      <td>C85</td>\n",
       "      <td>C</td>\n",
       "    </tr>\n",
       "    <tr>\n",
       "      <th>2</th>\n",
       "      <td>3</td>\n",
       "      <td>1</td>\n",
       "      <td>3</td>\n",
       "      <td>Heikkinen, Miss. Laina</td>\n",
       "      <td>female</td>\n",
       "      <td>26.0</td>\n",
       "      <td>0</td>\n",
       "      <td>0</td>\n",
       "      <td>STON/O2. 3101282</td>\n",
       "      <td>7.9250</td>\n",
       "      <td>NaN</td>\n",
       "      <td>S</td>\n",
       "    </tr>\n",
       "    <tr>\n",
       "      <th>3</th>\n",
       "      <td>4</td>\n",
       "      <td>1</td>\n",
       "      <td>1</td>\n",
       "      <td>Futrelle, Mrs. Jacques Heath (Lily May Peel)</td>\n",
       "      <td>female</td>\n",
       "      <td>35.0</td>\n",
       "      <td>1</td>\n",
       "      <td>0</td>\n",
       "      <td>113803</td>\n",
       "      <td>53.1000</td>\n",
       "      <td>C123</td>\n",
       "      <td>S</td>\n",
       "    </tr>\n",
       "    <tr>\n",
       "      <th>4</th>\n",
       "      <td>5</td>\n",
       "      <td>0</td>\n",
       "      <td>3</td>\n",
       "      <td>Allen, Mr. William Henry</td>\n",
       "      <td>male</td>\n",
       "      <td>35.0</td>\n",
       "      <td>0</td>\n",
       "      <td>0</td>\n",
       "      <td>373450</td>\n",
       "      <td>8.0500</td>\n",
       "      <td>NaN</td>\n",
       "      <td>S</td>\n",
       "    </tr>\n",
       "  </tbody>\n",
       "</table>\n",
       "</div>"
      ],
      "text/plain": [
       "   PassengerId  Survived  Pclass  \\\n",
       "0            1         0       3   \n",
       "1            2         1       1   \n",
       "2            3         1       3   \n",
       "3            4         1       1   \n",
       "4            5         0       3   \n",
       "\n",
       "                                                Name     Sex   Age  SibSp  \\\n",
       "0                            Braund, Mr. Owen Harris    male  22.0      1   \n",
       "1  Cumings, Mrs. John Bradley (Florence Briggs Th...  female  38.0      1   \n",
       "2                             Heikkinen, Miss. Laina  female  26.0      0   \n",
       "3       Futrelle, Mrs. Jacques Heath (Lily May Peel)  female  35.0      1   \n",
       "4                           Allen, Mr. William Henry    male  35.0      0   \n",
       "\n",
       "   Parch            Ticket     Fare Cabin Embarked  \n",
       "0      0         A/5 21171   7.2500   NaN        S  \n",
       "1      0          PC 17599  71.2833   C85        C  \n",
       "2      0  STON/O2. 3101282   7.9250   NaN        S  \n",
       "3      0            113803  53.1000  C123        S  \n",
       "4      0            373450   8.0500   NaN        S  "
      ]
     },
     "execution_count": 69,
     "metadata": {},
     "output_type": "execute_result"
    }
   ],
   "source": [
    "#importing the train and the test datasets\n",
    "\n",
    "raw_train_dataset = pd.read_csv(\"D://data//train.csv\")\n",
    "raw_test_dataset = pd.read_csv(\"D://data//test.csv\")\n",
    "\n",
    "raw_train_dataset.head()"
   ]
  },
  {
   "cell_type": "code",
   "execution_count": 70,
   "metadata": {},
   "outputs": [
    {
     "data": {
      "text/plain": [
       "418"
      ]
     },
     "execution_count": 70,
     "metadata": {},
     "output_type": "execute_result"
    }
   ],
   "source": [
    "# shape of the train and the test dataset\n",
    "raw_train_dataset.shape[0]  #891 \n",
    "raw_test_dataset.shape[0]   #418"
   ]
  },
  {
   "cell_type": "code",
   "execution_count": 71,
   "metadata": {},
   "outputs": [],
   "source": [
    "## Data Preprocessing\n",
    "\n",
    "#drop the columns not needed\n",
    "train_dataset = raw_train_dataset.drop(['PassengerId','Ticket'],axis=1)\n",
    "test_dataset = raw_test_dataset.drop(['PassengerId','Ticket'],axis=1)"
   ]
  },
  {
   "cell_type": "code",
   "execution_count": 72,
   "metadata": {},
   "outputs": [
    {
     "data": {
      "text/plain": [
       "Survived      0\n",
       "Pclass        0\n",
       "Name          0\n",
       "Sex           0\n",
       "Age         177\n",
       "SibSp         0\n",
       "Parch         0\n",
       "Fare          0\n",
       "Cabin       687\n",
       "Embarked      2\n",
       "dtype: int64"
      ]
     },
     "execution_count": 72,
     "metadata": {},
     "output_type": "execute_result"
    }
   ],
   "source": [
    "#finding the missing values\n",
    "train_dataset.isna().sum()"
   ]
  },
  {
   "cell_type": "code",
   "execution_count": 73,
   "metadata": {},
   "outputs": [
    {
     "data": {
      "text/plain": [
       "Pclass        0\n",
       "Name          0\n",
       "Sex           0\n",
       "Age          86\n",
       "SibSp         0\n",
       "Parch         0\n",
       "Fare          1\n",
       "Cabin       327\n",
       "Embarked      0\n",
       "dtype: int64"
      ]
     },
     "execution_count": 73,
     "metadata": {},
     "output_type": "execute_result"
    }
   ],
   "source": [
    "test_dataset.isna().sum()"
   ]
  },
  {
   "cell_type": "code",
   "execution_count": 74,
   "metadata": {},
   "outputs": [],
   "source": [
    "#Cabin\n",
    "\n",
    "train_dataset['Cabin'].unique()\n",
    "train_dataset['Cabin'] = train_dataset['Cabin'].fillna('U0')\n",
    "train_dataset['CabinDeck'] = train_dataset['Cabin'].astype(str).str[0]"
   ]
  },
  {
   "cell_type": "code",
   "execution_count": 75,
   "metadata": {},
   "outputs": [],
   "source": [
    "test_dataset['Cabin'].unique()\n",
    "test_dataset['Cabin'] = test_dataset['Cabin'].fillna('U0')\n",
    "test_dataset['CabinDeck'] = test_dataset['Cabin'].astype(str).str[0]"
   ]
  },
  {
   "cell_type": "code",
   "execution_count": 76,
   "metadata": {},
   "outputs": [],
   "source": [
    "# fill the missing values with appropriate values\n",
    "deck = {\"A\": 1, \"B\": 2, \"C\": 3, \"D\": 4, \"E\": 5, \"F\": 6, \"G\": 7, \"U\": 8}\n",
    "dataset = [train_dataset, test_dataset]\n",
    "for df in dataset:\n",
    "    #age (median)\n",
    "    df['Age']=df['Age'].fillna(df['Age'].median())\n",
    "\n",
    "    #cabin   \n",
    "    df['CabinDeck'] = df['CabinDeck'].map(deck)\n",
    "    df['CabinDeck'] = df['CabinDeck'].fillna(0)\n",
    "    df['CabinDeck'] = df['CabinDeck'].astype(int)\n",
    "    \n",
    "    #Embarked\n",
    "    df['Embarked'] = df['Embarked'].fillna('S')\n",
    "    \n",
    "    df['Fare'] = df['Fare'].fillna(0)\n",
    "    df['Fare'] = df['Fare'].astype(int)"
   ]
  },
  {
   "cell_type": "code",
   "execution_count": 77,
   "metadata": {},
   "outputs": [
    {
     "data": {
      "text/plain": [
       "Survived     0\n",
       "Pclass       0\n",
       "Name         0\n",
       "Sex          0\n",
       "Age          0\n",
       "SibSp        0\n",
       "Parch        0\n",
       "Fare         0\n",
       "Cabin        0\n",
       "Embarked     0\n",
       "CabinDeck    0\n",
       "dtype: int64"
      ]
     },
     "execution_count": 77,
     "metadata": {},
     "output_type": "execute_result"
    }
   ],
   "source": [
    "train_dataset.isna().sum()"
   ]
  },
  {
   "cell_type": "code",
   "execution_count": 78,
   "metadata": {},
   "outputs": [],
   "source": [
    "train_dataset['Name'] = train_dataset.Name.str.split(\",\").str.get(1).str.split().str.get(0)\n",
    "test_dataset['Name'] = test_dataset.Name.str.split(\",\").str.get(1).str.split().str.get(0)"
   ]
  },
  {
   "cell_type": "code",
   "execution_count": 79,
   "metadata": {},
   "outputs": [],
   "source": [
    "for df in dataset:\n",
    "    df['Name'] = df['Name'].replace(['Lady.', 'Countess.','Capt.', 'Col.','Don.', 'Dr.','Major.', 'Rev.', 'Sir.','Jonkheer.' ,'Dona.','the'], 'Misc.')\n",
    "    df['Name'] = df['Name'].replace('Mlle.','Miss.')\n",
    "    df['Name'] = df['Name'].replace('Mme.','Miss.')\n",
    "    df['Name'] = df['Name'].replace('Ms.','Miss.')\n",
    "    df['Name'] = df['Name'].replace('Master.','Mr.')"
   ]
  },
  {
   "cell_type": "code",
   "execution_count": 80,
   "metadata": {},
   "outputs": [
    {
     "data": {
      "text/plain": [
       "Survived     0\n",
       "Pclass       0\n",
       "Name         0\n",
       "Sex          0\n",
       "Age          0\n",
       "SibSp        0\n",
       "Parch        0\n",
       "Fare         0\n",
       "Cabin        0\n",
       "Embarked     0\n",
       "CabinDeck    0\n",
       "dtype: int64"
      ]
     },
     "execution_count": 80,
     "metadata": {},
     "output_type": "execute_result"
    }
   ],
   "source": [
    "train_dataset.isna().sum()"
   ]
  },
  {
   "cell_type": "code",
   "execution_count": 81,
   "metadata": {},
   "outputs": [
    {
     "data": {
      "text/html": [
       "<div>\n",
       "<style scoped>\n",
       "    .dataframe tbody tr th:only-of-type {\n",
       "        vertical-align: middle;\n",
       "    }\n",
       "\n",
       "    .dataframe tbody tr th {\n",
       "        vertical-align: top;\n",
       "    }\n",
       "\n",
       "    .dataframe thead th {\n",
       "        text-align: right;\n",
       "    }\n",
       "</style>\n",
       "<table border=\"1\" class=\"dataframe\">\n",
       "  <thead>\n",
       "    <tr style=\"text-align: right;\">\n",
       "      <th></th>\n",
       "      <th>Pclass</th>\n",
       "      <th>Name</th>\n",
       "      <th>Sex</th>\n",
       "      <th>Age</th>\n",
       "      <th>SibSp</th>\n",
       "      <th>Parch</th>\n",
       "      <th>Fare</th>\n",
       "      <th>Embarked</th>\n",
       "      <th>CabinDeck</th>\n",
       "    </tr>\n",
       "  </thead>\n",
       "  <tbody>\n",
       "    <tr>\n",
       "      <th>0</th>\n",
       "      <td>3</td>\n",
       "      <td>Mr.</td>\n",
       "      <td>male</td>\n",
       "      <td>34.5</td>\n",
       "      <td>0</td>\n",
       "      <td>0</td>\n",
       "      <td>7</td>\n",
       "      <td>Q</td>\n",
       "      <td>8</td>\n",
       "    </tr>\n",
       "    <tr>\n",
       "      <th>1</th>\n",
       "      <td>3</td>\n",
       "      <td>Mrs.</td>\n",
       "      <td>female</td>\n",
       "      <td>47.0</td>\n",
       "      <td>1</td>\n",
       "      <td>0</td>\n",
       "      <td>7</td>\n",
       "      <td>S</td>\n",
       "      <td>8</td>\n",
       "    </tr>\n",
       "    <tr>\n",
       "      <th>2</th>\n",
       "      <td>2</td>\n",
       "      <td>Mr.</td>\n",
       "      <td>male</td>\n",
       "      <td>62.0</td>\n",
       "      <td>0</td>\n",
       "      <td>0</td>\n",
       "      <td>9</td>\n",
       "      <td>Q</td>\n",
       "      <td>8</td>\n",
       "    </tr>\n",
       "    <tr>\n",
       "      <th>3</th>\n",
       "      <td>3</td>\n",
       "      <td>Mr.</td>\n",
       "      <td>male</td>\n",
       "      <td>27.0</td>\n",
       "      <td>0</td>\n",
       "      <td>0</td>\n",
       "      <td>8</td>\n",
       "      <td>S</td>\n",
       "      <td>8</td>\n",
       "    </tr>\n",
       "    <tr>\n",
       "      <th>4</th>\n",
       "      <td>3</td>\n",
       "      <td>Mrs.</td>\n",
       "      <td>female</td>\n",
       "      <td>22.0</td>\n",
       "      <td>1</td>\n",
       "      <td>1</td>\n",
       "      <td>12</td>\n",
       "      <td>S</td>\n",
       "      <td>8</td>\n",
       "    </tr>\n",
       "  </tbody>\n",
       "</table>\n",
       "</div>"
      ],
      "text/plain": [
       "   Pclass  Name     Sex   Age  SibSp  Parch  Fare Embarked  CabinDeck\n",
       "0       3   Mr.    male  34.5      0      0     7        Q          8\n",
       "1       3  Mrs.  female  47.0      1      0     7        S          8\n",
       "2       2   Mr.    male  62.0      0      0     9        Q          8\n",
       "3       3   Mr.    male  27.0      0      0     8        S          8\n",
       "4       3  Mrs.  female  22.0      1      1    12        S          8"
      ]
     },
     "execution_count": 81,
     "metadata": {},
     "output_type": "execute_result"
    }
   ],
   "source": [
    "processed_test_dataset = test_dataset.drop('Cabin',axis=1)\n",
    "processed_train_dataset = train_dataset.drop('Cabin',axis=1)\n",
    "processed_test_dataset.head()"
   ]
  },
  {
   "cell_type": "code",
   "execution_count": 82,
   "metadata": {},
   "outputs": [
    {
     "data": {
      "text/html": [
       "<div>\n",
       "<style scoped>\n",
       "    .dataframe tbody tr th:only-of-type {\n",
       "        vertical-align: middle;\n",
       "    }\n",
       "\n",
       "    .dataframe tbody tr th {\n",
       "        vertical-align: top;\n",
       "    }\n",
       "\n",
       "    .dataframe thead th {\n",
       "        text-align: right;\n",
       "    }\n",
       "</style>\n",
       "<table border=\"1\" class=\"dataframe\">\n",
       "  <thead>\n",
       "    <tr style=\"text-align: right;\">\n",
       "      <th></th>\n",
       "      <th>Pclass</th>\n",
       "      <th>Name</th>\n",
       "      <th>Sex</th>\n",
       "      <th>Age</th>\n",
       "      <th>SibSp</th>\n",
       "      <th>Parch</th>\n",
       "      <th>Fare</th>\n",
       "      <th>Embarked</th>\n",
       "      <th>CabinDeck</th>\n",
       "    </tr>\n",
       "  </thead>\n",
       "  <tbody>\n",
       "    <tr>\n",
       "      <th>0</th>\n",
       "      <td>3</td>\n",
       "      <td>Mr.</td>\n",
       "      <td>male</td>\n",
       "      <td>34.5</td>\n",
       "      <td>0</td>\n",
       "      <td>0</td>\n",
       "      <td>7</td>\n",
       "      <td>Q</td>\n",
       "      <td>8</td>\n",
       "    </tr>\n",
       "    <tr>\n",
       "      <th>1</th>\n",
       "      <td>3</td>\n",
       "      <td>Mrs.</td>\n",
       "      <td>female</td>\n",
       "      <td>47.0</td>\n",
       "      <td>1</td>\n",
       "      <td>0</td>\n",
       "      <td>7</td>\n",
       "      <td>S</td>\n",
       "      <td>8</td>\n",
       "    </tr>\n",
       "    <tr>\n",
       "      <th>2</th>\n",
       "      <td>2</td>\n",
       "      <td>Mr.</td>\n",
       "      <td>male</td>\n",
       "      <td>62.0</td>\n",
       "      <td>0</td>\n",
       "      <td>0</td>\n",
       "      <td>9</td>\n",
       "      <td>Q</td>\n",
       "      <td>8</td>\n",
       "    </tr>\n",
       "    <tr>\n",
       "      <th>3</th>\n",
       "      <td>3</td>\n",
       "      <td>Mr.</td>\n",
       "      <td>male</td>\n",
       "      <td>27.0</td>\n",
       "      <td>0</td>\n",
       "      <td>0</td>\n",
       "      <td>8</td>\n",
       "      <td>S</td>\n",
       "      <td>8</td>\n",
       "    </tr>\n",
       "    <tr>\n",
       "      <th>4</th>\n",
       "      <td>3</td>\n",
       "      <td>Mrs.</td>\n",
       "      <td>female</td>\n",
       "      <td>22.0</td>\n",
       "      <td>1</td>\n",
       "      <td>1</td>\n",
       "      <td>12</td>\n",
       "      <td>S</td>\n",
       "      <td>8</td>\n",
       "    </tr>\n",
       "  </tbody>\n",
       "</table>\n",
       "</div>"
      ],
      "text/plain": [
       "   Pclass  Name     Sex   Age  SibSp  Parch  Fare Embarked  CabinDeck\n",
       "0       3   Mr.    male  34.5      0      0     7        Q          8\n",
       "1       3  Mrs.  female  47.0      1      0     7        S          8\n",
       "2       2   Mr.    male  62.0      0      0     9        Q          8\n",
       "3       3   Mr.    male  27.0      0      0     8        S          8\n",
       "4       3  Mrs.  female  22.0      1      1    12        S          8"
      ]
     },
     "execution_count": 82,
     "metadata": {},
     "output_type": "execute_result"
    }
   ],
   "source": [
    "processed_test_dataset.head()"
   ]
  },
  {
   "cell_type": "code",
   "execution_count": 83,
   "metadata": {},
   "outputs": [],
   "source": [
    "import seaborn as sns\n",
    "sns.set()"
   ]
  },
  {
   "cell_type": "code",
   "execution_count": 84,
   "metadata": {
    "scrolled": true
   },
   "outputs": [
    {
     "data": {
      "text/plain": [
       "<matplotlib.axes._subplots.AxesSubplot at 0x25c30b0fdd8>"
      ]
     },
     "execution_count": 84,
     "metadata": {},
     "output_type": "execute_result"
    },
    {
     "data": {
      "image/png": "[encoded data removed]",
      "text/plain": [
       "<Figure size 1080x216 with 2 Axes>"
      ]
     },
     "metadata": {},
     "output_type": "display_data"
    }
   ],
   "source": [
    "plt.figure(figsize=(15,3))\n",
    "plt.subplot(1,2,1)\n",
    "plt.title('Number of Passengers per Title')\n",
    "sns.countplot(processed_train_dataset['Name'])\n",
    "plt.subplot(1,2,2)\n",
    "plt.title('Survival rate per title')\n",
    "sns.barplot(processed_train_dataset['Name'],train_dataset['Survived'])"
   ]
  },
  {
   "cell_type": "code",
   "execution_count": 85,
   "metadata": {
    "scrolled": true
   },
   "outputs": [
    {
     "data": {
      "text/plain": [
       "<matplotlib.axes._subplots.AxesSubplot at 0x25c32309390>"
      ]
     },
     "execution_count": 85,
     "metadata": {},
     "output_type": "execute_result"
    },
    {
     "data": {
      "image/png": "[encoded data removed]",
      "text/plain": [
       "<Figure size 1080x216 with 2 Axes>"
      ]
     },
     "metadata": {},
     "output_type": "display_data"
    }
   ],
   "source": [
    "plt.figure(figsize=(15,3))\n",
    "plt.subplot(1,2,1)\n",
    "sns.countplot(processed_train_dataset['Pclass'])\n",
    "plt.subplot(1,2,2)\n",
    "sns.barplot(processed_train_dataset['Pclass'],train_dataset['Survived'])"
   ]
  },
  {
   "cell_type": "code",
   "execution_count": 86,
   "metadata": {
    "scrolled": true
   },
   "outputs": [
    {
     "data": {
      "text/plain": [
       "<matplotlib.axes._subplots.AxesSubplot at 0x25c32391e10>"
      ]
     },
     "execution_count": 86,
     "metadata": {},
     "output_type": "execute_result"
    },
    {
     "data": {
      "image/png": "[encoded data removed]",
      "text/plain": [
       "<Figure size 1080x216 with 2 Axes>"
      ]
     },
     "metadata": {},
     "output_type": "display_data"
    }
   ],
   "source": [
    "plt.figure(figsize=(15,3))\n",
    "plt.subplot(1,2,1)\n",
    "sns.countplot(processed_train_dataset['Sex'])\n",
    "plt.subplot(1,2,2)\n",
    "sns.barplot(processed_train_dataset['Sex'],train_dataset['Survived'])"
   ]
  },
  {
   "cell_type": "code",
   "execution_count": 87,
   "metadata": {
    "scrolled": true
   },
   "outputs": [
    {
     "data": {
      "text/plain": [
       "<matplotlib.axes._subplots.AxesSubplot at 0x25c3244f9e8>"
      ]
     },
     "execution_count": 87,
     "metadata": {},
     "output_type": "execute_result"
    },
    {
     "data": {
      "image/png": "[encoded data removed]",
      "text/plain": [
       "<Figure size 1080x216 with 2 Axes>"
      ]
     },
     "metadata": {},
     "output_type": "display_data"
    }
   ],
   "source": [
    "plt.figure(figsize=(15,3))\n",
    "plt.subplot(1,2,1)\n",
    "sns.countplot(processed_train_dataset['Embarked'])\n",
    "plt.subplot(1,2,2)\n",
    "sns.barplot(processed_train_dataset['Embarked'],train_dataset['Survived'])"
   ]
  },
  {
   "cell_type": "code",
   "execution_count": 88,
   "metadata": {},
   "outputs": [
    {
     "data": {
      "text/plain": [
       "<matplotlib.axes._subplots.AxesSubplot at 0x25c324fcac8>"
      ]
     },
     "execution_count": 88,
     "metadata": {},
     "output_type": "execute_result"
    },
    {
     "data": {
      "image/png": "[encoded data removed]",
      "text/plain": [
       "<Figure size 1080x216 with 2 Axes>"
      ]
     },
     "metadata": {},
     "output_type": "display_data"
    }
   ],
   "source": [
    "plt.figure(figsize=(15,3))\n",
    "plt.subplot(1,2,1)\n",
    "sns.countplot(processed_train_dataset['CabinDeck'])\n",
    "plt.subplot(1,2,2)\n",
    "sns.barplot(processed_train_dataset['CabinDeck'],train_dataset['Survived'])"
   ]
  },
  {
   "cell_type": "code",
   "execution_count": 89,
   "metadata": {
    "scrolled": true
   },
   "outputs": [
    {
     "data": {
      "image/png": "[encoded data removed]",
      "text/plain": [
       "<Figure size 1080x216 with 2 Axes>"
      ]
     },
     "metadata": {},
     "output_type": "display_data"
    }
   ],
   "source": [
    "df = processed_train_dataset[['Age','Survived','Sex']].copy()\n",
    "df['Age'] = df['Age'].astype(int)\n",
    "df.loc[df['Age'] <= 12, 'Age'] = 12\n",
    "df.loc[(df['Age'] >= 13) & (df['Age'] <= 21), 'Age'] = 21\n",
    "df.loc[(df['Age'] >= 22) & (df['Age'] <= 30), 'Age'] = 30\n",
    "df.loc[(df['Age'] >= 31) & (df['Age'] <= 39), 'Age'] = 39\n",
    "df.loc[(df['Age'] >= 40) & (df['Age'] <= 48), 'Age'] = 48\n",
    "df.loc[(df['Age'] >= 49) & (df['Age'] <= 57), 'Age'] = 57\n",
    "df.loc[(df['Age'] >= 58) & (df['Age'] <= 65), 'Age'] = 65\n",
    "df.loc[df['Age'] > 65, 'Age'] = 65\n",
    "\n",
    "\n",
    "plt.figure(figsize=(15,3))\n",
    "plt.subplot(1,2,1)\n",
    "sns.countplot(df['Age'])\n",
    "plt.subplot(1,2,2)\n",
    "sns.barplot(df['Age'],df['Survived'])\n",
    "\n",
    "plt.show()"
   ]
  },
  {
   "cell_type": "code",
   "execution_count": 90,
   "metadata": {},
   "outputs": [],
   "source": [
    "dataset = [processed_train_dataset,processed_test_dataset]\n",
    "for ds in dataset:\n",
    "    ds['Age'] = ds['Age'].astype(np.int64)\n",
    "    ds.loc[ds['Age'] <= 12, 'Age'] = 0\n",
    "    ds.loc[(ds['Age'] >= 13) & (ds['Age'] <= 21), 'Age'] = 1\n",
    "    ds.loc[(ds['Age'] >= 22) & (ds['Age'] <= 30), 'Age'] = 2\n",
    "    ds.loc[(ds['Age'] >= 31) & (ds['Age'] <= 39), 'Age'] = 3\n",
    "    ds.loc[(ds['Age'] >= 40) & (ds['Age'] <= 48), 'Age'] = 4\n",
    "    ds.loc[(ds['Age'] >= 49) & (ds['Age'] <= 57), 'Age'] = 5\n",
    "    ds.loc[(ds['Age'] >= 58) & (ds['Age'] <= 65), 'Age'] = 6\n",
    "    ds.loc[ds['Age'] > 65, 'Age'] = 7          \n",
    "    \n",
    "    ds.loc[ ds['Fare'] <= 7.91, 'Fare'] = 0\n",
    "    ds.loc[(ds['Fare'] > 7.91) & (ds['Fare'] <= 14.454), 'Fare'] = 1\n",
    "    ds.loc[(ds['Fare'] > 14.454) & (ds['Fare'] <= 31), 'Fare']   = 2\n",
    "    ds.loc[(ds['Fare'] > 31) & (ds['Fare'] <= 99), 'Fare']   = 3\n",
    "    ds.loc[(ds['Fare'] > 99) & (ds['Fare'] <= 250), 'Fare']   = 4\n",
    "    ds.loc[ ds['Fare'] > 250, 'Fare'] = 5\n",
    "    ds['Fare'] = ds['Fare'].astype(int)"
   ]
  },
  {
   "cell_type": "code",
   "execution_count": 91,
   "metadata": {},
   "outputs": [],
   "source": [
    "for ds in dataset:\n",
    "    ds['Name']=ds['Name'].map({'Mr.':0,'Mrs.':1,'Miss.':2,'Misc.':3})\n",
    "    ds['Sex']=ds['Sex'].map({'male':0,'female':1})\n",
    "    ds['Embarked']=ds['Embarked'].map({'S':0,'C':1,'Q':2})\n",
    "    \n",
    "    ds['Age_Sex']= ds['Age']* ds['Sex']\n",
    "    ds['Age_Pclass']= ds['Age']* ds['Pclass']\n",
    "    ds['Sex_SibSp']= ds['Sex']* ds['SibSp']"
   ]
  },
  {
   "cell_type": "code",
   "execution_count": 92,
   "metadata": {
    "scrolled": true
   },
   "outputs": [
    {
     "data": {
      "text/html": [
       "<div>\n",
       "<style scoped>\n",
       "    .dataframe tbody tr th:only-of-type {\n",
       "        vertical-align: middle;\n",
       "    }\n",
       "\n",
       "    .dataframe tbody tr th {\n",
       "        vertical-align: top;\n",
       "    }\n",
       "\n",
       "    .dataframe thead th {\n",
       "        text-align: right;\n",
       "    }\n",
       "</style>\n",
       "<table border=\"1\" class=\"dataframe\">\n",
       "  <thead>\n",
       "    <tr style=\"text-align: right;\">\n",
       "      <th></th>\n",
       "      <th>Pclass</th>\n",
       "      <th>Name</th>\n",
       "      <th>Sex</th>\n",
       "      <th>Age</th>\n",
       "      <th>SibSp</th>\n",
       "      <th>Parch</th>\n",
       "      <th>Fare</th>\n",
       "      <th>Embarked</th>\n",
       "      <th>CabinDeck</th>\n",
       "      <th>Age_Sex</th>\n",
       "      <th>Age_Pclass</th>\n",
       "      <th>Sex_SibSp</th>\n",
       "    </tr>\n",
       "  </thead>\n",
       "  <tbody>\n",
       "    <tr>\n",
       "      <th>0</th>\n",
       "      <td>3</td>\n",
       "      <td>0</td>\n",
       "      <td>0</td>\n",
       "      <td>3</td>\n",
       "      <td>0</td>\n",
       "      <td>0</td>\n",
       "      <td>0</td>\n",
       "      <td>2</td>\n",
       "      <td>8</td>\n",
       "      <td>0</td>\n",
       "      <td>9</td>\n",
       "      <td>0</td>\n",
       "    </tr>\n",
       "    <tr>\n",
       "      <th>1</th>\n",
       "      <td>3</td>\n",
       "      <td>1</td>\n",
       "      <td>1</td>\n",
       "      <td>4</td>\n",
       "      <td>1</td>\n",
       "      <td>0</td>\n",
       "      <td>0</td>\n",
       "      <td>0</td>\n",
       "      <td>8</td>\n",
       "      <td>4</td>\n",
       "      <td>12</td>\n",
       "      <td>1</td>\n",
       "    </tr>\n",
       "    <tr>\n",
       "      <th>2</th>\n",
       "      <td>2</td>\n",
       "      <td>0</td>\n",
       "      <td>0</td>\n",
       "      <td>6</td>\n",
       "      <td>0</td>\n",
       "      <td>0</td>\n",
       "      <td>1</td>\n",
       "      <td>2</td>\n",
       "      <td>8</td>\n",
       "      <td>0</td>\n",
       "      <td>12</td>\n",
       "      <td>0</td>\n",
       "    </tr>\n",
       "    <tr>\n",
       "      <th>3</th>\n",
       "      <td>3</td>\n",
       "      <td>0</td>\n",
       "      <td>0</td>\n",
       "      <td>2</td>\n",
       "      <td>0</td>\n",
       "      <td>0</td>\n",
       "      <td>1</td>\n",
       "      <td>0</td>\n",
       "      <td>8</td>\n",
       "      <td>0</td>\n",
       "      <td>6</td>\n",
       "      <td>0</td>\n",
       "    </tr>\n",
       "    <tr>\n",
       "      <th>4</th>\n",
       "      <td>3</td>\n",
       "      <td>1</td>\n",
       "      <td>1</td>\n",
       "      <td>2</td>\n",
       "      <td>1</td>\n",
       "      <td>1</td>\n",
       "      <td>1</td>\n",
       "      <td>0</td>\n",
       "      <td>8</td>\n",
       "      <td>2</td>\n",
       "      <td>6</td>\n",
       "      <td>1</td>\n",
       "    </tr>\n",
       "  </tbody>\n",
       "</table>\n",
       "</div>"
      ],
      "text/plain": [
       "   Pclass  Name  Sex  Age  SibSp  Parch  Fare  Embarked  CabinDeck  Age_Sex  \\\n",
       "0       3     0    0    3      0      0     0         2          8        0   \n",
       "1       3     1    1    4      1      0     0         0          8        4   \n",
       "2       2     0    0    6      0      0     1         2          8        0   \n",
       "3       3     0    0    2      0      0     1         0          8        0   \n",
       "4       3     1    1    2      1      1     1         0          8        2   \n",
       "\n",
       "   Age_Pclass  Sex_SibSp  \n",
       "0           9          0  \n",
       "1          12          1  \n",
       "2          12          0  \n",
       "3           6          0  \n",
       "4           6          1  "
      ]
     },
     "execution_count": 92,
     "metadata": {},
     "output_type": "execute_result"
    }
   ],
   "source": [
    "processed_test_dataset.head()"
   ]
  },
  {
   "cell_type": "code",
   "execution_count": 93,
   "metadata": {},
   "outputs": [],
   "source": [
    "# preparing the model\n",
    "\n",
    "Y_train = processed_train_dataset.pop('Survived')\n",
    "X_train = processed_train_dataset.copy()\n",
    "X_test = processed_test_dataset.copy()"
   ]
  },
  {
   "cell_type": "code",
   "execution_count": 94,
   "metadata": {},
   "outputs": [
    {
     "data": {
      "text/html": [
       "<div>\n",
       "<style scoped>\n",
       "    .dataframe tbody tr th:only-of-type {\n",
       "        vertical-align: middle;\n",
       "    }\n",
       "\n",
       "    .dataframe tbody tr th {\n",
       "        vertical-align: top;\n",
       "    }\n",
       "\n",
       "    .dataframe thead th {\n",
       "        text-align: right;\n",
       "    }\n",
       "</style>\n",
       "<table border=\"1\" class=\"dataframe\">\n",
       "  <thead>\n",
       "    <tr style=\"text-align: right;\">\n",
       "      <th></th>\n",
       "      <th>Pclass</th>\n",
       "      <th>Name</th>\n",
       "      <th>Sex</th>\n",
       "      <th>Age</th>\n",
       "      <th>SibSp</th>\n",
       "      <th>Parch</th>\n",
       "      <th>Fare</th>\n",
       "      <th>Embarked</th>\n",
       "      <th>CabinDeck</th>\n",
       "      <th>Age_Sex</th>\n",
       "      <th>Age_Pclass</th>\n",
       "      <th>Sex_SibSp</th>\n",
       "    </tr>\n",
       "  </thead>\n",
       "  <tbody>\n",
       "    <tr>\n",
       "      <th>0</th>\n",
       "      <td>3</td>\n",
       "      <td>0</td>\n",
       "      <td>0</td>\n",
       "      <td>3</td>\n",
       "      <td>0</td>\n",
       "      <td>0</td>\n",
       "      <td>0</td>\n",
       "      <td>2</td>\n",
       "      <td>8</td>\n",
       "      <td>0</td>\n",
       "      <td>9</td>\n",
       "      <td>0</td>\n",
       "    </tr>\n",
       "    <tr>\n",
       "      <th>1</th>\n",
       "      <td>3</td>\n",
       "      <td>1</td>\n",
       "      <td>1</td>\n",
       "      <td>4</td>\n",
       "      <td>1</td>\n",
       "      <td>0</td>\n",
       "      <td>0</td>\n",
       "      <td>0</td>\n",
       "      <td>8</td>\n",
       "      <td>4</td>\n",
       "      <td>12</td>\n",
       "      <td>1</td>\n",
       "    </tr>\n",
       "    <tr>\n",
       "      <th>2</th>\n",
       "      <td>2</td>\n",
       "      <td>0</td>\n",
       "      <td>0</td>\n",
       "      <td>6</td>\n",
       "      <td>0</td>\n",
       "      <td>0</td>\n",
       "      <td>1</td>\n",
       "      <td>2</td>\n",
       "      <td>8</td>\n",
       "      <td>0</td>\n",
       "      <td>12</td>\n",
       "      <td>0</td>\n",
       "    </tr>\n",
       "    <tr>\n",
       "      <th>3</th>\n",
       "      <td>3</td>\n",
       "      <td>0</td>\n",
       "      <td>0</td>\n",
       "      <td>2</td>\n",
       "      <td>0</td>\n",
       "      <td>0</td>\n",
       "      <td>1</td>\n",
       "      <td>0</td>\n",
       "      <td>8</td>\n",
       "      <td>0</td>\n",
       "      <td>6</td>\n",
       "      <td>0</td>\n",
       "    </tr>\n",
       "    <tr>\n",
       "      <th>4</th>\n",
       "      <td>3</td>\n",
       "      <td>1</td>\n",
       "      <td>1</td>\n",
       "      <td>2</td>\n",
       "      <td>1</td>\n",
       "      <td>1</td>\n",
       "      <td>1</td>\n",
       "      <td>0</td>\n",
       "      <td>8</td>\n",
       "      <td>2</td>\n",
       "      <td>6</td>\n",
       "      <td>1</td>\n",
       "    </tr>\n",
       "  </tbody>\n",
       "</table>\n",
       "</div>"
      ],
      "text/plain": [
       "   Pclass  Name  Sex  Age  SibSp  Parch  Fare  Embarked  CabinDeck  Age_Sex  \\\n",
       "0       3     0    0    3      0      0     0         2          8        0   \n",
       "1       3     1    1    4      1      0     0         0          8        4   \n",
       "2       2     0    0    6      0      0     1         2          8        0   \n",
       "3       3     0    0    2      0      0     1         0          8        0   \n",
       "4       3     1    1    2      1      1     1         0          8        2   \n",
       "\n",
       "   Age_Pclass  Sex_SibSp  \n",
       "0           9          0  \n",
       "1          12          1  \n",
       "2          12          0  \n",
       "3           6          0  \n",
       "4           6          1  "
      ]
     },
     "execution_count": 94,
     "metadata": {},
     "output_type": "execute_result"
    }
   ],
   "source": [
    "X_test.head()"
   ]
  },
  {
   "cell_type": "code",
   "execution_count": 95,
   "metadata": {},
   "outputs": [],
   "source": [
    "from sklearn.linear_model import LogisticRegression\n",
    "\n",
    "logreg = LogisticRegression()"
   ]
  },
  {
   "cell_type": "code",
   "execution_count": 96,
   "metadata": {
    "scrolled": true
   },
   "outputs": [
    {
     "data": {
      "text/plain": [
       "LogisticRegression(C=1.0, class_weight=None, dual=False, fit_intercept=True,\n",
       "                   intercept_scaling=1, l1_ratio=None, max_iter=100,\n",
       "                   multi_class='auto', n_jobs=None, penalty='l2',\n",
       "                   random_state=None, solver='lbfgs', tol=0.0001, verbose=0,\n",
       "                   warm_start=False)"
      ]
     },
     "execution_count": 96,
     "metadata": {},
     "output_type": "execute_result"
    }
   ],
   "source": [
    "logreg.fit(X_train,Y_train)"
   ]
  },
  {
   "cell_type": "code",
   "execution_count": 97,
   "metadata": {},
   "outputs": [],
   "source": [
    "pred = logreg.predict(X_train[10:20])"
   ]
  },
  {
   "cell_type": "code",
   "execution_count": 98,
   "metadata": {},
   "outputs": [],
   "source": [
    "predictions = logreg.predict(X_test)"
   ]
  },
  {
   "cell_type": "code",
   "execution_count": 99,
   "metadata": {},
   "outputs": [],
   "source": [
    "acc_log = round(logreg.score(X_train, Y_train) * 100, 2)"
   ]
  },
  {
   "cell_type": "code",
   "execution_count": 100,
   "metadata": {},
   "outputs": [
    {
     "data": {
      "text/plain": [
       "80.7"
      ]
     },
     "execution_count": 100,
     "metadata": {},
     "output_type": "execute_result"
    }
   ],
   "source": [
    "acc_log"
   ]
  },
  {
   "cell_type": "code",
   "execution_count": 101,
   "metadata": {},
   "outputs": [
    {
     "name": "stdout",
     "output_type": "stream",
     "text": [
      "91.92 %\n"
     ]
    }
   ],
   "source": [
    "## Random Forest\n",
    "from sklearn.ensemble import RandomForestClassifier \n",
    "# Random Forest\n",
    "\n",
    "random_forest = RandomForestClassifier(n_estimators=100, oob_score = True)\n",
    "random_forest.fit(X_train, Y_train)\n",
    "Y_prediction = random_forest.predict(X_test)\n",
    "\n",
    "random_forest.score(X_train, Y_train)\n",
    "\n",
    "acc_random_forest = round(random_forest.score(X_train, Y_train) * 100, 2)\n",
    "print(round(acc_random_forest,2,), \"%\")  "
   ]
  },
  {
   "cell_type": "code",
   "execution_count": 102,
   "metadata": {},
   "outputs": [],
   "source": [
    "submission = pd.DataFrame({'PassengerId': raw_test_dataset['PassengerId'], 'Survived': Y_prediction})\n",
    "submission.to_csv('titanicpredictionRF.csv', index=False)"
   ]
  },
  {
   "cell_type": "markdown",
   "metadata": {},
   "source": [
    "### using Neural Network"
   ]
  },
  {
   "cell_type": "code",
   "execution_count": 103,
   "metadata": {},
   "outputs": [
    {
     "data": {
      "text/plain": [
       "Pclass        int64\n",
       "Name          int64\n",
       "Sex           int64\n",
       "Age           int64\n",
       "SibSp         int64\n",
       "Parch         int64\n",
       "Fare          int32\n",
       "Embarked      int64\n",
       "CabinDeck     int32\n",
       "Age_Sex       int64\n",
       "Age_Pclass    int64\n",
       "Sex_SibSp     int64\n",
       "dtype: object"
      ]
     },
     "execution_count": 103,
     "metadata": {},
     "output_type": "execute_result"
    }
   ],
   "source": [
    "processed_train_dataset.dtypes"
   ]
  },
  {
   "cell_type": "code",
   "execution_count": 104,
   "metadata": {},
   "outputs": [
    {
     "data": {
      "text/plain": [
       "Pclass        int64\n",
       "Name          int64\n",
       "Sex           int64\n",
       "Age           int64\n",
       "SibSp         int64\n",
       "Parch         int64\n",
       "Fare          int32\n",
       "Embarked      int64\n",
       "CabinDeck     int32\n",
       "Age_Sex       int64\n",
       "Age_Pclass    int64\n",
       "Sex_SibSp     int64\n",
       "dtype: object"
      ]
     },
     "execution_count": 104,
     "metadata": {},
     "output_type": "execute_result"
    }
   ],
   "source": [
    "processed_train_dataset.dtypes"
   ]
  },
  {
   "cell_type": "code",
   "execution_count": 136,
   "metadata": {},
   "outputs": [],
   "source": [
    "#create a model\n",
    "def get_model():\n",
    "    model = tf.keras.Sequential([\n",
    "        tf.keras.layers.Dense(10, activation='relu'),\n",
    "        tf.keras.layers.Dense(10, activation='relu'),\n",
    "        tf.keras.layers.Dense(1, activation='sigmoid')\n",
    "    ])\n",
    "    \n",
    "    model.compile(optimizer='adam',loss='binary_crossentropy',metrics=['accuracy'])\n",
    "    \n",
    "    return model"
   ]
  },
  {
   "cell_type": "code",
   "execution_count": 106,
   "metadata": {},
   "outputs": [],
   "source": [
    "y_train_NN = Y_train.values.copy()\n",
    "X_train_NN = processed_train_dataset.values\n",
    "X_test_NN = processed_test_dataset.values"
   ]
  },
  {
   "cell_type": "code",
   "execution_count": 107,
   "metadata": {},
   "outputs": [
    {
     "name": "stdout",
     "output_type": "stream",
     "text": [
      "Train on 891 samples\n",
      "Epoch 1/10\n",
      "891/891 [==============================] - 3s 4ms/sample - loss: 0.5959 - accuracy: 0.7059\n",
      "Epoch 2/10\n",
      "891/891 [==============================] - 0s 99us/sample - loss: 0.4998 - accuracy: 0.7789\n",
      "Epoch 3/10\n",
      "891/891 [==============================] - 0s 106us/sample - loss: 0.4521 - accuracy: 0.8215\n",
      "Epoch 4/10\n",
      "891/891 [==============================] - 0s 145us/sample - loss: 0.4351 - accuracy: 0.8148\n",
      "Epoch 5/10\n",
      "891/891 [==============================] - 0s 113us/sample - loss: 0.4303 - accuracy: 0.8137\n",
      "Epoch 6/10\n",
      "891/891 [==============================] - 0s 108us/sample - loss: 0.4291 - accuracy: 0.8137\n",
      "Epoch 7/10\n",
      "891/891 [==============================] - 0s 121us/sample - loss: 0.4260 - accuracy: 0.8103\n",
      "Epoch 8/10\n",
      "891/891 [==============================] - 0s 198us/sample - loss: 0.4191 - accuracy: 0.8171\n",
      "Epoch 9/10\n",
      "891/891 [==============================] - 0s 106us/sample - loss: 0.4199 - accuracy: 0.8159\n",
      "Epoch 10/10\n",
      "891/891 [==============================] - 0s 102us/sample - loss: 0.4173 - accuracy: 0.8227\n"
     ]
    },
    {
     "data": {
      "text/plain": [
       "<tensorflow.python.keras.callbacks.History at 0x25c3292c208>"
      ]
     },
     "execution_count": 107,
     "metadata": {},
     "output_type": "execute_result"
    }
   ],
   "source": [
    "newmodel = get_model()\n",
    "newmodel.fit(X_train_NN, y_train_NN, batch_size=32 , epochs=10)"
   ]
  },
  {
   "cell_type": "code",
   "execution_count": 108,
   "metadata": {},
   "outputs": [],
   "source": [
    "y_pred = newmodel.predict(X_test_NN)\n",
    "y_final = (y_pred > 0.5).astype(int).reshape(X_test_NN.shape[0])"
   ]
  },
  {
   "cell_type": "code",
   "execution_count": 109,
   "metadata": {},
   "outputs": [],
   "source": [
    "submission = pd.DataFrame({'PassengerId': raw_test_dataset['PassengerId'], 'Survived': y_final})\n",
    "submission.to_csv('predictionNN0.csv', index=False)"
   ]
  },
  {
   "cell_type": "markdown",
   "metadata": {},
   "source": [
    "### Another NN example"
   ]
  },
  {
   "cell_type": "code",
   "execution_count": 110,
   "metadata": {},
   "outputs": [],
   "source": [
    "new_train = processed_train_dataset.drop(labels=['SibSp','Parch','Age','Fare','Name'], axis=1)\n",
    "new_test = processed_test_dataset.drop(labels=['SibSp','Parch','Age','Fare','Name'], axis=1)\n",
    "#y_train_NN = Y_train.values.copy()\n",
    "X_train_NN_1 = new_train.values\n",
    "X_test_NN_1 = new_test.values"
   ]
  },
  {
   "cell_type": "code",
   "execution_count": 116,
   "metadata": {},
   "outputs": [
    {
     "name": "stdout",
     "output_type": "stream",
     "text": [
      "Train on 712 samples, validate on 179 samples\n",
      "Epoch 1/150\n",
      "712/712 [==============================] - 1s 2ms/sample - loss: 0.6493 - accuracy: 0.6784 - val_loss: 0.5527 - val_accuracy: 0.8045\n",
      "Epoch 2/150\n",
      "712/712 [==============================] - 0s 132us/sample - loss: 0.5395 - accuracy: 0.7444 - val_loss: 0.4781 - val_accuracy: 0.7709\n",
      "Epoch 3/150\n",
      "712/712 [==============================] - 0s 121us/sample - loss: 0.5083 - accuracy: 0.7669 - val_loss: 0.4670 - val_accuracy: 0.8045\n",
      "Epoch 4/150\n",
      "712/712 [==============================] - 0s 166us/sample - loss: 0.4899 - accuracy: 0.7879 - val_loss: 0.4523 - val_accuracy: 0.8101\n",
      "Epoch 5/150\n",
      "712/712 [==============================] - 0s 108us/sample - loss: 0.4791 - accuracy: 0.7837 - val_loss: 0.4352 - val_accuracy: 0.7989\n",
      "Epoch 6/150\n",
      "712/712 [==============================] - 0s 124us/sample - loss: 0.4744 - accuracy: 0.7837 - val_loss: 0.4278 - val_accuracy: 0.8101\n",
      "Epoch 7/150\n",
      "712/712 [==============================] - 0s 131us/sample - loss: 0.4681 - accuracy: 0.7893 - val_loss: 0.4324 - val_accuracy: 0.8045\n",
      "Epoch 8/150\n",
      "712/712 [==============================] - 0s 114us/sample - loss: 0.4642 - accuracy: 0.7851 - val_loss: 0.4189 - val_accuracy: 0.8101\n",
      "Epoch 9/150\n",
      "712/712 [==============================] - 0s 117us/sample - loss: 0.4620 - accuracy: 0.7865 - val_loss: 0.4134 - val_accuracy: 0.8101\n",
      "Epoch 10/150\n",
      "712/712 [==============================] - 0s 123us/sample - loss: 0.4596 - accuracy: 0.7921 - val_loss: 0.4112 - val_accuracy: 0.8101\n",
      "Epoch 11/150\n",
      "712/712 [==============================] - 0s 122us/sample - loss: 0.4553 - accuracy: 0.7865 - val_loss: 0.4058 - val_accuracy: 0.8324\n",
      "Epoch 12/150\n",
      "712/712 [==============================] - 0s 127us/sample - loss: 0.4543 - accuracy: 0.8048 - val_loss: 0.4066 - val_accuracy: 0.8268\n",
      "Epoch 13/150\n",
      "712/712 [==============================] - 0s 130us/sample - loss: 0.4578 - accuracy: 0.7907 - val_loss: 0.3980 - val_accuracy: 0.8268\n",
      "Epoch 14/150\n",
      "712/712 [==============================] - 0s 138us/sample - loss: 0.4489 - accuracy: 0.8048 - val_loss: 0.3947 - val_accuracy: 0.8212\n",
      "Epoch 15/150\n",
      "712/712 [==============================] - 0s 131us/sample - loss: 0.4460 - accuracy: 0.8006 - val_loss: 0.3945 - val_accuracy: 0.8212\n",
      "Epoch 16/150\n",
      "712/712 [==============================] - 0s 124us/sample - loss: 0.4443 - accuracy: 0.8006 - val_loss: 0.3926 - val_accuracy: 0.8380\n",
      "Epoch 17/150\n",
      "712/712 [==============================] - 0s 118us/sample - loss: 0.4426 - accuracy: 0.8034 - val_loss: 0.3827 - val_accuracy: 0.8268\n",
      "Epoch 18/150\n",
      "712/712 [==============================] - 0s 122us/sample - loss: 0.4485 - accuracy: 0.8090 - val_loss: 0.3851 - val_accuracy: 0.8268\n",
      "Epoch 19/150\n",
      "712/712 [==============================] - 0s 126us/sample - loss: 0.4428 - accuracy: 0.8048 - val_loss: 0.3846 - val_accuracy: 0.8324\n",
      "Epoch 20/150\n",
      "712/712 [==============================] - 0s 113us/sample - loss: 0.4438 - accuracy: 0.8118 - val_loss: 0.3960 - val_accuracy: 0.8436\n",
      "Epoch 21/150\n",
      "712/712 [==============================] - 0s 120us/sample - loss: 0.4395 - accuracy: 0.8062 - val_loss: 0.3888 - val_accuracy: 0.8436\n",
      "Epoch 22/150\n",
      "712/712 [==============================] - 0s 123us/sample - loss: 0.4371 - accuracy: 0.8076 - val_loss: 0.3870 - val_accuracy: 0.8436\n",
      "Epoch 23/150\n",
      "712/712 [==============================] - 0s 133us/sample - loss: 0.4391 - accuracy: 0.8090 - val_loss: 0.3826 - val_accuracy: 0.8380\n",
      "Epoch 24/150\n",
      "712/712 [==============================] - 0s 134us/sample - loss: 0.4343 - accuracy: 0.8160 - val_loss: 0.3882 - val_accuracy: 0.8436\n",
      "Epoch 25/150\n",
      "712/712 [==============================] - 0s 131us/sample - loss: 0.4318 - accuracy: 0.8118 - val_loss: 0.3732 - val_accuracy: 0.8380\n",
      "Epoch 26/150\n",
      "712/712 [==============================] - 0s 118us/sample - loss: 0.4334 - accuracy: 0.8160 - val_loss: 0.3754 - val_accuracy: 0.8436\n",
      "Epoch 27/150\n",
      "712/712 [==============================] - 0s 119us/sample - loss: 0.4308 - accuracy: 0.8202 - val_loss: 0.3744 - val_accuracy: 0.8380\n",
      "Epoch 28/150\n",
      "712/712 [==============================] - 0s 108us/sample - loss: 0.4294 - accuracy: 0.8188 - val_loss: 0.3814 - val_accuracy: 0.8380\n",
      "Epoch 29/150\n",
      "712/712 [==============================] - 0s 125us/sample - loss: 0.4314 - accuracy: 0.8132 - val_loss: 0.3728 - val_accuracy: 0.8436\n",
      "Epoch 30/150\n",
      "712/712 [==============================] - 0s 116us/sample - loss: 0.4289 - accuracy: 0.8230 - val_loss: 0.3810 - val_accuracy: 0.8436\n",
      "Epoch 31/150\n",
      "712/712 [==============================] - 0s 128us/sample - loss: 0.4290 - accuracy: 0.8160 - val_loss: 0.3733 - val_accuracy: 0.8380\n",
      "Epoch 32/150\n",
      "712/712 [==============================] - 0s 112us/sample - loss: 0.4295 - accuracy: 0.8160 - val_loss: 0.3806 - val_accuracy: 0.8436\n",
      "Epoch 33/150\n",
      "712/712 [==============================] - 0s 129us/sample - loss: 0.4273 - accuracy: 0.8188 - val_loss: 0.3691 - val_accuracy: 0.8436\n",
      "Epoch 34/150\n",
      "712/712 [==============================] - 0s 111us/sample - loss: 0.4268 - accuracy: 0.8202 - val_loss: 0.3790 - val_accuracy: 0.8492\n",
      "Epoch 35/150\n",
      "712/712 [==============================] - 0s 128us/sample - loss: 0.4291 - accuracy: 0.8160 - val_loss: 0.3875 - val_accuracy: 0.8324\n",
      "Epoch 36/150\n",
      "712/712 [==============================] - 0s 118us/sample - loss: 0.4287 - accuracy: 0.8160 - val_loss: 0.3690 - val_accuracy: 0.8324\n",
      "Epoch 37/150\n",
      "712/712 [==============================] - 0s 119us/sample - loss: 0.4384 - accuracy: 0.7992 - val_loss: 0.3873 - val_accuracy: 0.8324\n",
      "Epoch 38/150\n",
      "712/712 [==============================] - 0s 124us/sample - loss: 0.4259 - accuracy: 0.8216 - val_loss: 0.3688 - val_accuracy: 0.8380\n",
      "Epoch 39/150\n",
      "712/712 [==============================] - 0s 126us/sample - loss: 0.4226 - accuracy: 0.8174 - val_loss: 0.3848 - val_accuracy: 0.8380\n",
      "Epoch 40/150\n",
      "712/712 [==============================] - 0s 111us/sample - loss: 0.4262 - accuracy: 0.8230 - val_loss: 0.3777 - val_accuracy: 0.8324\n",
      "Epoch 41/150\n",
      "712/712 [==============================] - 0s 124us/sample - loss: 0.4259 - accuracy: 0.8118 - val_loss: 0.3684 - val_accuracy: 0.8380\n",
      "Epoch 42/150\n",
      "712/712 [==============================] - 0s 131us/sample - loss: 0.4253 - accuracy: 0.8202 - val_loss: 0.3807 - val_accuracy: 0.8380\n",
      "Epoch 43/150\n",
      "712/712 [==============================] - 0s 143us/sample - loss: 0.4284 - accuracy: 0.8230 - val_loss: 0.3704 - val_accuracy: 0.8324\n",
      "Epoch 44/150\n",
      "712/712 [==============================] - 0s 115us/sample - loss: 0.4244 - accuracy: 0.8160 - val_loss: 0.3657 - val_accuracy: 0.8492\n",
      "Epoch 45/150\n",
      "712/712 [==============================] - 0s 126us/sample - loss: 0.4199 - accuracy: 0.8230 - val_loss: 0.3715 - val_accuracy: 0.8436\n",
      "Epoch 46/150\n",
      "712/712 [==============================] - 0s 123us/sample - loss: 0.4216 - accuracy: 0.8244 - val_loss: 0.3699 - val_accuracy: 0.8436\n",
      "Epoch 47/150\n",
      "712/712 [==============================] - 0s 154us/sample - loss: 0.4202 - accuracy: 0.8244 - val_loss: 0.3704 - val_accuracy: 0.8436\n",
      "Epoch 48/150\n",
      "712/712 [==============================] - 0s 104us/sample - loss: 0.4238 - accuracy: 0.8216 - val_loss: 0.3654 - val_accuracy: 0.8436\n",
      "Epoch 49/150\n",
      "712/712 [==============================] - 0s 112us/sample - loss: 0.4210 - accuracy: 0.8202 - val_loss: 0.3654 - val_accuracy: 0.8492\n",
      "Epoch 50/150\n",
      "712/712 [==============================] - 0s 112us/sample - loss: 0.4212 - accuracy: 0.8202 - val_loss: 0.3688 - val_accuracy: 0.8324\n",
      "Epoch 51/150\n",
      "712/712 [==============================] - 0s 109us/sample - loss: 0.4196 - accuracy: 0.8202 - val_loss: 0.3745 - val_accuracy: 0.8324\n",
      "Epoch 52/150\n",
      "712/712 [==============================] - 0s 107us/sample - loss: 0.4185 - accuracy: 0.8216 - val_loss: 0.3628 - val_accuracy: 0.8603\n",
      "Epoch 53/150\n",
      "712/712 [==============================] - 0s 108us/sample - loss: 0.4173 - accuracy: 0.8174 - val_loss: 0.3732 - val_accuracy: 0.8324\n",
      "Epoch 54/150\n",
      "712/712 [==============================] - 0s 115us/sample - loss: 0.4197 - accuracy: 0.8202 - val_loss: 0.3623 - val_accuracy: 0.8603\n",
      "Epoch 55/150\n",
      "712/712 [==============================] - 0s 103us/sample - loss: 0.4192 - accuracy: 0.8132 - val_loss: 0.3650 - val_accuracy: 0.8380\n",
      "Epoch 56/150\n"
     ]
    },
    {
     "name": "stdout",
     "output_type": "stream",
     "text": [
      "712/712 [==============================] - 0s 104us/sample - loss: 0.4193 - accuracy: 0.8202 - val_loss: 0.3632 - val_accuracy: 0.8603\n",
      "Epoch 57/150\n",
      "712/712 [==============================] - 0s 104us/sample - loss: 0.4229 - accuracy: 0.8202 - val_loss: 0.3815 - val_accuracy: 0.8380\n",
      "Epoch 58/150\n",
      "712/712 [==============================] - 0s 112us/sample - loss: 0.4160 - accuracy: 0.8216 - val_loss: 0.3597 - val_accuracy: 0.8603\n",
      "Epoch 59/150\n",
      "712/712 [==============================] - 0s 115us/sample - loss: 0.4177 - accuracy: 0.8230 - val_loss: 0.3641 - val_accuracy: 0.8436\n",
      "Epoch 60/150\n",
      "712/712 [==============================] - 0s 111us/sample - loss: 0.4171 - accuracy: 0.8202 - val_loss: 0.3667 - val_accuracy: 0.8380\n",
      "Epoch 61/150\n",
      "712/712 [==============================] - 0s 119us/sample - loss: 0.4155 - accuracy: 0.8230 - val_loss: 0.3729 - val_accuracy: 0.8324\n",
      "Epoch 62/150\n",
      "712/712 [==============================] - 0s 148us/sample - loss: 0.4175 - accuracy: 0.8216 - val_loss: 0.3625 - val_accuracy: 0.8436\n",
      "Epoch 63/150\n",
      "712/712 [==============================] - 0s 124us/sample - loss: 0.4161 - accuracy: 0.8244 - val_loss: 0.3622 - val_accuracy: 0.8436\n",
      "Epoch 64/150\n",
      "712/712 [==============================] - 0s 122us/sample - loss: 0.4160 - accuracy: 0.8146 - val_loss: 0.3846 - val_accuracy: 0.8380\n",
      "Epoch 65/150\n",
      "712/712 [==============================] - 0s 110us/sample - loss: 0.4174 - accuracy: 0.8230 - val_loss: 0.3662 - val_accuracy: 0.8436\n",
      "Epoch 66/150\n",
      "712/712 [==============================] - 0s 94us/sample - loss: 0.4150 - accuracy: 0.8258 - val_loss: 0.3639 - val_accuracy: 0.8436\n",
      "Epoch 67/150\n",
      "712/712 [==============================] - 0s 114us/sample - loss: 0.4151 - accuracy: 0.8230 - val_loss: 0.3677 - val_accuracy: 0.8436\n",
      "Epoch 68/150\n",
      "712/712 [==============================] - 0s 112us/sample - loss: 0.4122 - accuracy: 0.8244 - val_loss: 0.3615 - val_accuracy: 0.8436\n",
      "Epoch 69/150\n",
      "712/712 [==============================] - 0s 99us/sample - loss: 0.4140 - accuracy: 0.8202 - val_loss: 0.3660 - val_accuracy: 0.8436\n",
      "Epoch 70/150\n",
      "712/712 [==============================] - 0s 113us/sample - loss: 0.4141 - accuracy: 0.8287 - val_loss: 0.3614 - val_accuracy: 0.8436\n",
      "Epoch 71/150\n",
      "712/712 [==============================] - 0s 128us/sample - loss: 0.4133 - accuracy: 0.8287 - val_loss: 0.3633 - val_accuracy: 0.8436\n",
      "Epoch 72/150\n",
      "712/712 [==============================] - 0s 119us/sample - loss: 0.4126 - accuracy: 0.8244 - val_loss: 0.3676 - val_accuracy: 0.8492\n",
      "Epoch 73/150\n",
      "712/712 [==============================] - 0s 114us/sample - loss: 0.4122 - accuracy: 0.8244 - val_loss: 0.3629 - val_accuracy: 0.8436\n",
      "Epoch 74/150\n",
      "712/712 [==============================] - 0s 112us/sample - loss: 0.4136 - accuracy: 0.8230 - val_loss: 0.3602 - val_accuracy: 0.8547\n",
      "Epoch 75/150\n",
      "712/712 [==============================] - 0s 115us/sample - loss: 0.4149 - accuracy: 0.8188 - val_loss: 0.3614 - val_accuracy: 0.8492\n",
      "Epoch 76/150\n",
      "712/712 [==============================] - 0s 110us/sample - loss: 0.4105 - accuracy: 0.8272 - val_loss: 0.3684 - val_accuracy: 0.8324\n",
      "Epoch 77/150\n",
      "712/712 [==============================] - 0s 112us/sample - loss: 0.4123 - accuracy: 0.8272 - val_loss: 0.3637 - val_accuracy: 0.8436\n",
      "Epoch 78/150\n",
      "712/712 [==============================] - 0s 110us/sample - loss: 0.4096 - accuracy: 0.8230 - val_loss: 0.3603 - val_accuracy: 0.8436\n",
      "Epoch 79/150\n",
      "712/712 [==============================] - 0s 108us/sample - loss: 0.4102 - accuracy: 0.8244 - val_loss: 0.3643 - val_accuracy: 0.8436\n",
      "Epoch 80/150\n",
      "712/712 [==============================] - 0s 110us/sample - loss: 0.4100 - accuracy: 0.8287 - val_loss: 0.3583 - val_accuracy: 0.8603\n",
      "Epoch 81/150\n",
      "712/712 [==============================] - 0s 111us/sample - loss: 0.4214 - accuracy: 0.8202 - val_loss: 0.3689 - val_accuracy: 0.8492\n",
      "Epoch 82/150\n",
      "712/712 [==============================] - 0s 102us/sample - loss: 0.4109 - accuracy: 0.8287 - val_loss: 0.3652 - val_accuracy: 0.8324\n",
      "Epoch 83/150\n",
      "712/712 [==============================] - 0s 124us/sample - loss: 0.4113 - accuracy: 0.8216 - val_loss: 0.3598 - val_accuracy: 0.8436\n",
      "Epoch 84/150\n",
      "712/712 [==============================] - 0s 106us/sample - loss: 0.4101 - accuracy: 0.8272 - val_loss: 0.3666 - val_accuracy: 0.8492\n",
      "Epoch 85/150\n",
      "712/712 [==============================] - 0s 119us/sample - loss: 0.4102 - accuracy: 0.8272 - val_loss: 0.3583 - val_accuracy: 0.8603\n",
      "Epoch 86/150\n",
      "712/712 [==============================] - 0s 111us/sample - loss: 0.4083 - accuracy: 0.8230 - val_loss: 0.3605 - val_accuracy: 0.8324\n",
      "Epoch 87/150\n",
      "712/712 [==============================] - 0s 106us/sample - loss: 0.4068 - accuracy: 0.8287 - val_loss: 0.3607 - val_accuracy: 0.8324\n",
      "Epoch 88/150\n",
      "712/712 [==============================] - 0s 108us/sample - loss: 0.4089 - accuracy: 0.8230 - val_loss: 0.3589 - val_accuracy: 0.8492\n",
      "Epoch 89/150\n",
      "712/712 [==============================] - 0s 128us/sample - loss: 0.4073 - accuracy: 0.8287 - val_loss: 0.3616 - val_accuracy: 0.8436\n",
      "Epoch 90/150\n",
      "712/712 [==============================] - 0s 116us/sample - loss: 0.4071 - accuracy: 0.8272 - val_loss: 0.3617 - val_accuracy: 0.8436\n",
      "Epoch 91/150\n",
      "712/712 [==============================] - 0s 150us/sample - loss: 0.4061 - accuracy: 0.8301 - val_loss: 0.3599 - val_accuracy: 0.8324\n",
      "Epoch 92/150\n",
      "712/712 [==============================] - 0s 120us/sample - loss: 0.4089 - accuracy: 0.8301 - val_loss: 0.3702 - val_accuracy: 0.8324\n",
      "Epoch 93/150\n",
      "712/712 [==============================] - 0s 127us/sample - loss: 0.4084 - accuracy: 0.8287 - val_loss: 0.3670 - val_accuracy: 0.8492\n",
      "Epoch 94/150\n",
      "712/712 [==============================] - 0s 123us/sample - loss: 0.4100 - accuracy: 0.8216 - val_loss: 0.3585 - val_accuracy: 0.8492\n",
      "Epoch 95/150\n",
      "712/712 [==============================] - 0s 142us/sample - loss: 0.4061 - accuracy: 0.8287 - val_loss: 0.3677 - val_accuracy: 0.8436\n",
      "Epoch 96/150\n",
      "712/712 [==============================] - 0s 110us/sample - loss: 0.4057 - accuracy: 0.8258 - val_loss: 0.3611 - val_accuracy: 0.8436\n",
      "Epoch 97/150\n",
      "712/712 [==============================] - 0s 134us/sample - loss: 0.4056 - accuracy: 0.8244 - val_loss: 0.3586 - val_accuracy: 0.8603\n",
      "Epoch 98/150\n",
      "712/712 [==============================] - 0s 121us/sample - loss: 0.4092 - accuracy: 0.8315 - val_loss: 0.3624 - val_accuracy: 0.8436\n",
      "Epoch 99/150\n",
      "712/712 [==============================] - 0s 117us/sample - loss: 0.4104 - accuracy: 0.8244 - val_loss: 0.3613 - val_accuracy: 0.8436\n",
      "Epoch 100/150\n",
      "712/712 [==============================] - 0s 196us/sample - loss: 0.4041 - accuracy: 0.8272 - val_loss: 0.3677 - val_accuracy: 0.8436\n",
      "Epoch 101/150\n",
      "712/712 [==============================] - 0s 167us/sample - loss: 0.4037 - accuracy: 0.8301 - val_loss: 0.3625 - val_accuracy: 0.8324\n",
      "Epoch 102/150\n",
      "712/712 [==============================] - 0s 132us/sample - loss: 0.4042 - accuracy: 0.8301 - val_loss: 0.3582 - val_accuracy: 0.8603\n",
      "Epoch 103/150\n",
      "712/712 [==============================] - 0s 120us/sample - loss: 0.4050 - accuracy: 0.8244 - val_loss: 0.3586 - val_accuracy: 0.8492\n",
      "Epoch 104/150\n",
      "712/712 [==============================] - 0s 121us/sample - loss: 0.4069 - accuracy: 0.8230 - val_loss: 0.3567 - val_accuracy: 0.8603\n",
      "Epoch 105/150\n",
      "712/712 [==============================] - 0s 116us/sample - loss: 0.4057 - accuracy: 0.8287 - val_loss: 0.3615 - val_accuracy: 0.8324\n",
      "Epoch 106/150\n",
      "712/712 [==============================] - 0s 107us/sample - loss: 0.4022 - accuracy: 0.8329 - val_loss: 0.3705 - val_accuracy: 0.8436\n",
      "Epoch 107/150\n",
      "712/712 [==============================] - 0s 105us/sample - loss: 0.4051 - accuracy: 0.8301 - val_loss: 0.3618 - val_accuracy: 0.8436\n",
      "Epoch 108/150\n",
      "712/712 [==============================] - 0s 112us/sample - loss: 0.4036 - accuracy: 0.8315 - val_loss: 0.3599 - val_accuracy: 0.8492\n",
      "Epoch 109/150\n",
      "712/712 [==============================] - 0s 93us/sample - loss: 0.4037 - accuracy: 0.8244 - val_loss: 0.3578 - val_accuracy: 0.8324\n",
      "Epoch 110/150\n",
      "712/712 [==============================] - 0s 126us/sample - loss: 0.4020 - accuracy: 0.8343 - val_loss: 0.3594 - val_accuracy: 0.8324\n",
      "Epoch 111/150\n"
     ]
    },
    {
     "name": "stdout",
     "output_type": "stream",
     "text": [
      "712/712 [==============================] - 0s 191us/sample - loss: 0.4006 - accuracy: 0.8287 - val_loss: 0.3622 - val_accuracy: 0.8324\n",
      "Epoch 112/150\n",
      "712/712 [==============================] - 0s 140us/sample - loss: 0.3999 - accuracy: 0.8244 - val_loss: 0.3635 - val_accuracy: 0.8324\n",
      "Epoch 113/150\n",
      "712/712 [==============================] - 0s 116us/sample - loss: 0.3997 - accuracy: 0.8371 - val_loss: 0.3676 - val_accuracy: 0.8436\n",
      "Epoch 114/150\n",
      "712/712 [==============================] - 0s 116us/sample - loss: 0.4002 - accuracy: 0.8315 - val_loss: 0.3556 - val_accuracy: 0.8603\n",
      "Epoch 115/150\n",
      "712/712 [==============================] - 0s 125us/sample - loss: 0.4012 - accuracy: 0.8329 - val_loss: 0.3563 - val_accuracy: 0.8492\n",
      "Epoch 116/150\n",
      "712/712 [==============================] - 0s 117us/sample - loss: 0.3998 - accuracy: 0.8301 - val_loss: 0.3591 - val_accuracy: 0.8324\n",
      "Epoch 117/150\n",
      "712/712 [==============================] - 0s 114us/sample - loss: 0.3991 - accuracy: 0.8343 - val_loss: 0.3615 - val_accuracy: 0.8324\n",
      "Epoch 118/150\n",
      "712/712 [==============================] - 0s 115us/sample - loss: 0.3986 - accuracy: 0.8343 - val_loss: 0.3609 - val_accuracy: 0.8324\n",
      "Epoch 119/150\n",
      "712/712 [==============================] - 0s 119us/sample - loss: 0.3987 - accuracy: 0.8343 - val_loss: 0.3589 - val_accuracy: 0.8324\n",
      "Epoch 120/150\n",
      "712/712 [==============================] - 0s 113us/sample - loss: 0.3999 - accuracy: 0.8343 - val_loss: 0.3611 - val_accuracy: 0.8324\n",
      "Epoch 121/150\n",
      "712/712 [==============================] - 0s 112us/sample - loss: 0.3991 - accuracy: 0.8329 - val_loss: 0.3569 - val_accuracy: 0.8324\n",
      "Epoch 122/150\n",
      "712/712 [==============================] - 0s 118us/sample - loss: 0.4028 - accuracy: 0.8357 - val_loss: 0.3568 - val_accuracy: 0.8547\n",
      "Epoch 123/150\n",
      "712/712 [==============================] - 0s 136us/sample - loss: 0.3986 - accuracy: 0.8301 - val_loss: 0.3668 - val_accuracy: 0.8436\n",
      "Epoch 124/150\n",
      "712/712 [==============================] - 0s 195us/sample - loss: 0.4000 - accuracy: 0.8188 - val_loss: 0.3555 - val_accuracy: 0.8603\n",
      "Epoch 125/150\n",
      "712/712 [==============================] - 0s 119us/sample - loss: 0.3976 - accuracy: 0.8301 - val_loss: 0.3717 - val_accuracy: 0.8436\n",
      "Epoch 126/150\n",
      "712/712 [==============================] - 0s 131us/sample - loss: 0.4011 - accuracy: 0.8343 - val_loss: 0.3567 - val_accuracy: 0.8324\n",
      "Epoch 127/150\n",
      "712/712 [==============================] - 0s 116us/sample - loss: 0.3977 - accuracy: 0.8343 - val_loss: 0.3586 - val_accuracy: 0.8268\n",
      "Epoch 128/150\n",
      "712/712 [==============================] - 0s 109us/sample - loss: 0.3978 - accuracy: 0.8230 - val_loss: 0.3596 - val_accuracy: 0.8268\n",
      "Epoch 129/150\n",
      "712/712 [==============================] - 0s 117us/sample - loss: 0.3979 - accuracy: 0.8301 - val_loss: 0.3569 - val_accuracy: 0.8324\n",
      "Epoch 130/150\n",
      "712/712 [==============================] - 0s 113us/sample - loss: 0.3967 - accuracy: 0.8301 - val_loss: 0.3650 - val_accuracy: 0.8268\n",
      "Epoch 131/150\n",
      "712/712 [==============================] - 0s 108us/sample - loss: 0.3954 - accuracy: 0.8385 - val_loss: 0.3543 - val_accuracy: 0.8603\n",
      "Epoch 132/150\n",
      "712/712 [==============================] - 0s 113us/sample - loss: 0.3993 - accuracy: 0.8315 - val_loss: 0.3675 - val_accuracy: 0.8436\n",
      "Epoch 133/150\n",
      "712/712 [==============================] - 0s 111us/sample - loss: 0.4010 - accuracy: 0.8146 - val_loss: 0.3655 - val_accuracy: 0.8268\n",
      "Epoch 134/150\n",
      "712/712 [==============================] - 0s 109us/sample - loss: 0.3969 - accuracy: 0.8329 - val_loss: 0.3563 - val_accuracy: 0.8603\n",
      "Epoch 135/150\n",
      "712/712 [==============================] - 0s 116us/sample - loss: 0.3974 - accuracy: 0.8272 - val_loss: 0.3617 - val_accuracy: 0.8268\n",
      "Epoch 136/150\n",
      "712/712 [==============================] - 0s 114us/sample - loss: 0.3969 - accuracy: 0.8385 - val_loss: 0.3613 - val_accuracy: 0.8324\n",
      "Epoch 137/150\n",
      "712/712 [==============================] - 0s 163us/sample - loss: 0.3952 - accuracy: 0.8315 - val_loss: 0.3586 - val_accuracy: 0.8324\n",
      "Epoch 138/150\n",
      "712/712 [==============================] - 0s 166us/sample - loss: 0.3951 - accuracy: 0.8315 - val_loss: 0.3623 - val_accuracy: 0.8268\n",
      "Epoch 139/150\n",
      "712/712 [==============================] - 0s 97us/sample - loss: 0.3969 - accuracy: 0.8385 - val_loss: 0.3644 - val_accuracy: 0.8268\n",
      "Epoch 140/150\n",
      "712/712 [==============================] - 0s 120us/sample - loss: 0.3956 - accuracy: 0.8371 - val_loss: 0.3542 - val_accuracy: 0.8603\n",
      "Epoch 141/150\n",
      "712/712 [==============================] - 0s 111us/sample - loss: 0.3993 - accuracy: 0.8357 - val_loss: 0.3591 - val_accuracy: 0.8268\n",
      "Epoch 142/150\n",
      "712/712 [==============================] - 0s 114us/sample - loss: 0.3966 - accuracy: 0.8287 - val_loss: 0.3673 - val_accuracy: 0.8268\n",
      "Epoch 143/150\n",
      "712/712 [==============================] - 0s 134us/sample - loss: 0.3968 - accuracy: 0.8329 - val_loss: 0.3565 - val_accuracy: 0.8436\n",
      "Epoch 144/150\n",
      "712/712 [==============================] - 0s 123us/sample - loss: 0.3969 - accuracy: 0.8315 - val_loss: 0.3548 - val_accuracy: 0.8603\n",
      "Epoch 145/150\n",
      "712/712 [==============================] - 0s 126us/sample - loss: 0.3951 - accuracy: 0.8371 - val_loss: 0.3586 - val_accuracy: 0.8436\n",
      "Epoch 146/150\n",
      "712/712 [==============================] - 0s 140us/sample - loss: 0.3934 - accuracy: 0.8413 - val_loss: 0.3566 - val_accuracy: 0.8603\n",
      "Epoch 147/150\n",
      "712/712 [==============================] - 0s 137us/sample - loss: 0.3971 - accuracy: 0.8287 - val_loss: 0.3584 - val_accuracy: 0.8268\n",
      "Epoch 148/150\n",
      "712/712 [==============================] - 0s 135us/sample - loss: 0.3917 - accuracy: 0.8385 - val_loss: 0.3601 - val_accuracy: 0.8324\n",
      "Epoch 149/150\n",
      "712/712 [==============================] - 0s 131us/sample - loss: 0.3941 - accuracy: 0.8329 - val_loss: 0.3696 - val_accuracy: 0.8268\n",
      "Epoch 150/150\n",
      "712/712 [==============================] - 0s 138us/sample - loss: 0.3932 - accuracy: 0.8371 - val_loss: 0.3566 - val_accuracy: 0.8603\n"
     ]
    }
   ],
   "source": [
    "newmodel = get_model()\n",
    "callback = tf.keras.callbacks.EarlyStopping(monitor='val_loss', patience=2)\n",
    "history = newmodel.fit(X_train_NN_1, y_train_NN, batch_size=32 ,validation_split=0.2, epochs=150,callbacks=callback)"
   ]
  },
  {
   "cell_type": "code",
   "execution_count": 122,
   "metadata": {},
   "outputs": [
    {
     "data": {
      "image/png": "[encoded data removed]",
      "text/plain": [
       "<Figure size 432x288 with 1 Axes>"
      ]
     },
     "metadata": {},
     "output_type": "display_data"
    },
    {
     "data": {
      "image/png": "[encoded data removed]",
      "text/plain": [
       "<Figure size 432x288 with 1 Axes>"
      ]
     },
     "metadata": {},
     "output_type": "display_data"
    }
   ],
   "source": [
    "#  \"Accuracy\"\n",
    "plt.plot(history.history['accuracy'])\n",
    "plt.plot(history.history['val_accuracy'])\n",
    "plt.title('model accuracy')\n",
    "plt.ylabel('accuracy')\n",
    "plt.xlabel('epoch')\n",
    "plt.legend(['train', 'validation'], loc='upper left')\n",
    "plt.show()\n",
    "# \"Loss\"\n",
    "plt.plot(history.history['loss'])\n",
    "plt.plot(history.history['val_loss'])\n",
    "plt.title('model loss')\n",
    "plt.ylabel('loss')\n",
    "plt.xlabel('epoch')\n",
    "plt.legend(['train', 'validation'], loc='upper left')\n",
    "plt.show()"
   ]
  },
  {
   "cell_type": "code",
   "execution_count": 121,
   "metadata": {},
   "outputs": [
    {
     "data": {
      "text/plain": [
       "dict_keys(['loss', 'accuracy', 'val_loss', 'val_accuracy'])"
      ]
     },
     "execution_count": 121,
     "metadata": {},
     "output_type": "execute_result"
    }
   ],
   "source": [
    "history.history.keys()"
   ]
  },
  {
   "cell_type": "code",
   "execution_count": 137,
   "metadata": {},
   "outputs": [
    {
     "name": "stdout",
     "output_type": "stream",
     "text": [
      "Train on 712 samples, validate on 179 samples\n",
      "Epoch 1/150\n",
      "712/712 [==============================] - 1s 1ms/sample - loss: 0.7605 - accuracy: 0.3764 - val_loss: 0.7206 - val_accuracy: 0.3352\n",
      "Epoch 2/150\n",
      "712/712 [==============================] - 0s 113us/sample - loss: 0.6854 - accuracy: 0.5941 - val_loss: 0.6640 - val_accuracy: 0.6760\n",
      "Epoch 3/150\n",
      "712/712 [==============================] - 0s 124us/sample - loss: 0.6516 - accuracy: 0.6559 - val_loss: 0.6272 - val_accuracy: 0.6983\n",
      "Epoch 4/150\n",
      "712/712 [==============================] - 0s 99us/sample - loss: 0.6301 - accuracy: 0.6517 - val_loss: 0.6028 - val_accuracy: 0.7151\n",
      "Epoch 5/150\n",
      "712/712 [==============================] - 0s 115us/sample - loss: 0.6150 - accuracy: 0.6643 - val_loss: 0.5819 - val_accuracy: 0.7318\n",
      "Epoch 6/150\n",
      "712/712 [==============================] - 0s 144us/sample - loss: 0.5979 - accuracy: 0.6812 - val_loss: 0.5637 - val_accuracy: 0.7263\n",
      "Epoch 7/150\n",
      "712/712 [==============================] - 0s 119us/sample - loss: 0.5743 - accuracy: 0.7037 - val_loss: 0.5443 - val_accuracy: 0.7486\n",
      "Epoch 8/150\n",
      "712/712 [==============================] - 0s 131us/sample - loss: 0.5481 - accuracy: 0.7360 - val_loss: 0.5278 - val_accuracy: 0.7542\n",
      "Epoch 9/150\n",
      "712/712 [==============================] - 0s 150us/sample - loss: 0.5341 - accuracy: 0.7444 - val_loss: 0.5139 - val_accuracy: 0.7598\n",
      "Epoch 10/150\n",
      "712/712 [==============================] - 0s 137us/sample - loss: 0.5226 - accuracy: 0.7514 - val_loss: 0.5071 - val_accuracy: 0.7709\n",
      "Epoch 11/150\n",
      "712/712 [==============================] - 0s 122us/sample - loss: 0.5156 - accuracy: 0.7640 - val_loss: 0.4953 - val_accuracy: 0.7709\n",
      "Epoch 12/150\n",
      "712/712 [==============================] - 0s 125us/sample - loss: 0.5078 - accuracy: 0.7683 - val_loss: 0.4902 - val_accuracy: 0.7654\n",
      "Epoch 13/150\n",
      "712/712 [==============================] - 0s 123us/sample - loss: 0.5029 - accuracy: 0.7654 - val_loss: 0.4877 - val_accuracy: 0.7709\n",
      "Epoch 14/150\n",
      "712/712 [==============================] - 0s 121us/sample - loss: 0.4986 - accuracy: 0.7697 - val_loss: 0.4817 - val_accuracy: 0.7709\n",
      "Epoch 15/150\n",
      "712/712 [==============================] - 0s 121us/sample - loss: 0.4944 - accuracy: 0.7711 - val_loss: 0.4773 - val_accuracy: 0.7821\n",
      "Epoch 16/150\n",
      "712/712 [==============================] - 0s 109us/sample - loss: 0.4917 - accuracy: 0.7753 - val_loss: 0.4729 - val_accuracy: 0.7821\n",
      "Epoch 17/150\n",
      "712/712 [==============================] - 0s 124us/sample - loss: 0.4888 - accuracy: 0.7795 - val_loss: 0.4707 - val_accuracy: 0.7989\n",
      "Epoch 18/150\n",
      "712/712 [==============================] - 0s 148us/sample - loss: 0.4865 - accuracy: 0.7893 - val_loss: 0.4660 - val_accuracy: 0.7989\n",
      "Epoch 19/150\n",
      "712/712 [==============================] - 0s 117us/sample - loss: 0.4851 - accuracy: 0.7921 - val_loss: 0.4616 - val_accuracy: 0.7989\n",
      "Epoch 20/150\n",
      "712/712 [==============================] - 0s 107us/sample - loss: 0.4821 - accuracy: 0.7893 - val_loss: 0.4570 - val_accuracy: 0.8045\n",
      "Epoch 21/150\n",
      "712/712 [==============================] - 0s 119us/sample - loss: 0.4793 - accuracy: 0.7935 - val_loss: 0.4522 - val_accuracy: 0.8045\n",
      "Epoch 22/150\n",
      "712/712 [==============================] - 0s 147us/sample - loss: 0.4778 - accuracy: 0.7865 - val_loss: 0.4488 - val_accuracy: 0.8101\n",
      "Epoch 23/150\n",
      "712/712 [==============================] - 0s 180us/sample - loss: 0.4758 - accuracy: 0.7949 - val_loss: 0.4506 - val_accuracy: 0.8045\n",
      "Epoch 24/150\n",
      "712/712 [==============================] - 0s 128us/sample - loss: 0.4734 - accuracy: 0.7963 - val_loss: 0.4438 - val_accuracy: 0.8101\n",
      "Epoch 25/150\n",
      "712/712 [==============================] - 0s 104us/sample - loss: 0.4714 - accuracy: 0.7963 - val_loss: 0.4406 - val_accuracy: 0.7989\n",
      "Epoch 26/150\n",
      "712/712 [==============================] - 0s 117us/sample - loss: 0.4695 - accuracy: 0.7949 - val_loss: 0.4376 - val_accuracy: 0.8101\n",
      "Epoch 27/150\n",
      "712/712 [==============================] - 0s 123us/sample - loss: 0.4677 - accuracy: 0.7893 - val_loss: 0.4348 - val_accuracy: 0.8101\n",
      "Epoch 28/150\n",
      "712/712 [==============================] - 0s 119us/sample - loss: 0.4660 - accuracy: 0.7963 - val_loss: 0.4321 - val_accuracy: 0.8101\n",
      "Epoch 29/150\n",
      "712/712 [==============================] - 0s 116us/sample - loss: 0.4643 - accuracy: 0.7949 - val_loss: 0.4313 - val_accuracy: 0.8045\n",
      "Epoch 30/150\n",
      "712/712 [==============================] - 0s 131us/sample - loss: 0.4625 - accuracy: 0.7921 - val_loss: 0.4243 - val_accuracy: 0.8156\n",
      "Epoch 31/150\n",
      "712/712 [==============================] - 0s 141us/sample - loss: 0.4599 - accuracy: 0.7963 - val_loss: 0.4220 - val_accuracy: 0.8156\n",
      "Epoch 32/150\n",
      "712/712 [==============================] - 0s 161us/sample - loss: 0.4577 - accuracy: 0.7935 - val_loss: 0.4176 - val_accuracy: 0.8212\n",
      "Epoch 33/150\n",
      "712/712 [==============================] - 0s 125us/sample - loss: 0.4561 - accuracy: 0.7992 - val_loss: 0.4130 - val_accuracy: 0.8212\n",
      "Epoch 34/150\n",
      "712/712 [==============================] - 0s 128us/sample - loss: 0.4531 - accuracy: 0.8020 - val_loss: 0.4099 - val_accuracy: 0.8212\n",
      "Epoch 35/150\n",
      "712/712 [==============================] - 0s 138us/sample - loss: 0.4509 - accuracy: 0.7963 - val_loss: 0.4071 - val_accuracy: 0.8156\n",
      "Epoch 36/150\n",
      "712/712 [==============================] - 0s 101us/sample - loss: 0.4489 - accuracy: 0.7978 - val_loss: 0.3999 - val_accuracy: 0.8212\n",
      "Epoch 37/150\n",
      "712/712 [==============================] - 0s 102us/sample - loss: 0.4480 - accuracy: 0.7978 - val_loss: 0.4019 - val_accuracy: 0.8101\n",
      "Epoch 38/150\n",
      "712/712 [==============================] - 0s 102us/sample - loss: 0.4470 - accuracy: 0.7921 - val_loss: 0.3976 - val_accuracy: 0.8380\n",
      "Epoch 39/150\n",
      "712/712 [==============================] - 0s 119us/sample - loss: 0.4450 - accuracy: 0.8160 - val_loss: 0.3946 - val_accuracy: 0.8547\n",
      "Epoch 40/150\n",
      "712/712 [==============================] - 0s 105us/sample - loss: 0.4429 - accuracy: 0.8118 - val_loss: 0.3962 - val_accuracy: 0.8268\n",
      "Epoch 41/150\n",
      "712/712 [==============================] - 0s 112us/sample - loss: 0.4420 - accuracy: 0.8076 - val_loss: 0.3929 - val_accuracy: 0.8324\n",
      "Epoch 42/150\n",
      "712/712 [==============================] - 0s 114us/sample - loss: 0.4408 - accuracy: 0.8090 - val_loss: 0.3898 - val_accuracy: 0.8324\n",
      "Epoch 43/150\n",
      "712/712 [==============================] - 0s 114us/sample - loss: 0.4414 - accuracy: 0.8034 - val_loss: 0.3914 - val_accuracy: 0.8268\n",
      "Epoch 44/150\n",
      "712/712 [==============================] - 0s 117us/sample - loss: 0.4390 - accuracy: 0.8146 - val_loss: 0.3885 - val_accuracy: 0.8547\n",
      "Epoch 45/150\n",
      "712/712 [==============================] - 0s 107us/sample - loss: 0.4392 - accuracy: 0.8118 - val_loss: 0.3886 - val_accuracy: 0.8547\n",
      "Epoch 46/150\n",
      "712/712 [==============================] - 0s 109us/sample - loss: 0.4379 - accuracy: 0.8132 - val_loss: 0.3883 - val_accuracy: 0.8492\n",
      "Epoch 47/150\n",
      "712/712 [==============================] - 0s 104us/sample - loss: 0.4375 - accuracy: 0.8132 - val_loss: 0.3862 - val_accuracy: 0.8547\n",
      "Epoch 48/150\n",
      "712/712 [==============================] - 0s 108us/sample - loss: 0.4366 - accuracy: 0.8104 - val_loss: 0.3883 - val_accuracy: 0.8268\n",
      "Epoch 49/150\n",
      "712/712 [==============================] - 0s 102us/sample - loss: 0.4365 - accuracy: 0.8104 - val_loss: 0.3866 - val_accuracy: 0.8492\n"
     ]
    }
   ],
   "source": [
    "newmodel = get_model()\n",
    "callback = tf.keras.callbacks.EarlyStopping(monitor='val_loss', patience=2)\n",
    "history = newmodel.fit(X_train_NN_1, y_train_NN, batch_size=32 ,validation_split=0.2, epochs=150,callbacks=[callback])"
   ]
  },
  {
   "cell_type": "code",
   "execution_count": 138,
   "metadata": {},
   "outputs": [
    {
     "data": {
      "image/png": "[encoded data removed]",
      "text/plain": [
       "<Figure size 432x288 with 1 Axes>"
      ]
     },
     "metadata": {},
     "output_type": "display_data"
    },
    {
     "data": {
      "image/png": "[encoded data removed]",
      "text/plain": [
       "<Figure size 432x288 with 1 Axes>"
      ]
     },
     "metadata": {},
     "output_type": "display_data"
    }
   ],
   "source": [
    "#  \"Accuracy\"\n",
    "plt.plot(history.history['accuracy'])\n",
    "plt.plot(history.history['val_accuracy'])\n",
    "plt.title('model accuracy')\n",
    "plt.ylabel('accuracy')\n",
    "plt.xlabel('epoch')\n",
    "plt.legend(['train', 'validation'], loc='upper left')\n",
    "plt.show()\n",
    "# \"Loss\"\n",
    "plt.plot(history.history['loss'])\n",
    "plt.plot(history.history['val_loss'])\n",
    "plt.title('model loss')\n",
    "plt.ylabel('loss')\n",
    "plt.xlabel('epoch')\n",
    "plt.legend(['train', 'validation'], loc='upper left')\n",
    "plt.show()"
   ]
  },
  {
   "cell_type": "code",
   "execution_count": 139,
   "metadata": {},
   "outputs": [],
   "source": [
    "y_pred_1 = newmodel.predict(X_test_NN_1)\n",
    "y_final_1 = (y_pred_1 > 0.5).astype(int).reshape(X_test_NN_1.shape[0])"
   ]
  },
  {
   "cell_type": "code",
   "execution_count": 140,
   "metadata": {},
   "outputs": [],
   "source": [
    "submission = pd.DataFrame({'PassengerId': raw_test_dataset['PassengerId'], 'Survived': y_final_1})\n",
    "submission.to_csv('predictionNN3.csv', index=False)"
   ]
  },
  {
   "cell_type": "code",
   "execution_count": null,
   "metadata": {},
   "outputs": [],
   "source": []
  }
 ],
 "metadata": {
  "kernelspec": {
   "display_name": "py3-TF2.0",
   "language": "python",
   "name": "py3-tf2.0"
  },
  "language_info": {
   "codemirror_mode": {
    "name": "ipython",
    "version": 3
   },
   "file_extension": ".py",
   "mimetype": "text/x-python",
   "name": "python",
   "nbconvert_exporter": "python",
   "pygments_lexer": "ipython3",
   "version": "3.7.3"
  }
 },
 "nbformat": 4,
 "nbformat_minor": 2
}
